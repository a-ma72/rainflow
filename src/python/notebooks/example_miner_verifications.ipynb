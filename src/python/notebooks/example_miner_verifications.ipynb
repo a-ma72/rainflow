{
 "cells": [
  {
   "cell_type": "markdown",
   "metadata": {},
   "source": [
    "# Miner modifications"
   ]
  },
  {
   "cell_type": "markdown",
   "metadata": {},
   "source": [
    "## Imports"
   ]
  },
  {
   "cell_type": "code",
   "execution_count": 1,
   "metadata": {},
   "outputs": [],
   "source": [
    "\n",
    "# Imports\n",
    "\n",
    "from itertools import pairwise\n",
    "from typing import Union\n",
    "\n",
    "import matplotlib\n",
    "import matplotlib.pyplot as plt\n",
    "import numpy as np\n",
    "import pandas as pd\n",
    "import rfcnt\n",
    "import scipy as scs\n",
    "from numpy.typing import ArrayLike\n",
    "\n",
    "# %matplotlib widget"
   ]
  },
  {
   "cell_type": "markdown",
   "metadata": {},
   "source": [
    "## Formulas"
   ]
  },
  {
   "cell_type": "code",
   "execution_count": 2,
   "metadata": {},
   "outputs": [],
   "source": [
    "# Stationary Gaussian load\n",
    "\n",
    "def generate_excitation_psd(T=60.0, dt=0.01, S0=16e-6, f0=0.1, w=2.0, seed=None, normalize=True):\n",
    "    \"\"\"\n",
    "    Generate a stationary Gaussian load time series simulating mechanical excitation\n",
    "    from road surface irregularities using a power spectral density (PSD) model.\n",
    "\n",
    "    Parameters\n",
    "    ----------\n",
    "    T : float\n",
    "        Total duration of the time series in seconds.\n",
    "    dt : float\n",
    "        Time step (sampling interval) in seconds.\n",
    "    S0 : float\n",
    "        PSD value at reference frequency f0 [units: m^2/Hz].\n",
    "    f0 : float\n",
    "        Reference frequency in Hz (commonly 0.1 Hz for ISO road spectra).\n",
    "    w : float\n",
    "        Spectral exponent (typically 2.0 for standard road profiles).\n",
    "    seed : int or None\n",
    "        Random seed for reproducibility (default: None).\n",
    "    normalize : bool\n",
    "        If True, the resulting signal is zero-mean and unit standard deviation.\n",
    "\n",
    "    Returns\n",
    "    -------\n",
    "    t : ArrayLike\n",
    "        Time vector (1D array).\n",
    "    x : ArrayLike\n",
    "        Simulated load time series (1D array).\n",
    "    \"\"\"\n",
    "    # Number of time points\n",
    "    N = int(T / dt)\n",
    "    t = np.arange(0, T, dt)\n",
    "\n",
    "    # Frequency resolution and frequency axis (one-sided)\n",
    "    df = 1 / T\n",
    "    f = np.fft.rfftfreq(N, dt)\n",
    "\n",
    "    # Power Spectral Density: ISO-like road excitation model\n",
    "    with np.errstate(divide=\"ignore\"):\n",
    "        S_f = S0 * (f / f0) ** (-w)\n",
    "    S_f[0] = 0  # Set DC component to zero (remove offset)\n",
    "\n",
    "    # Generate random phases\n",
    "    if seed is not None:\n",
    "        np.random.seed(seed)\n",
    "    random_phases = np.exp(1j * 2 * np.pi * np.random.rand(len(f)))\n",
    "\n",
    "    # Generate frequency-domain signal with desired amplitude spectrum\n",
    "    amplitudes = np.sqrt(2 * S_f * df)\n",
    "    X_f = amplitudes * random_phases\n",
    "\n",
    "    # Inverse FFT to get time-domain signal (real part only)\n",
    "    x = np.fft.irfft(X_f, n=N)\n",
    "\n",
    "    # Normalize (optional)\n",
    "    if normalize:\n",
    "        x -= np.mean(x)\n",
    "        x /= np.std(x)\n",
    "\n",
    "    return t, x"
   ]
  },
  {
   "cell_type": "code",
   "execution_count": 3,
   "metadata": {},
   "outputs": [],
   "source": [
    "# Damage calculation using 4-point algorithm\n",
    "\n",
    "def miner_turning_points_damage(\n",
    "    tp: ArrayLike,\n",
    "    *,\n",
    "    cc: int, cw: float, co: float,\n",
    "    wl_sd: float, wl_nd: float, wl_k: float, wl_k2: Union[float, None] = None,\n",
    "    q: Union[float, None] = None,\n",
    ") -> float:\n",
    "    \"\"\"\n",
    "    Computes cumulative fatigue damage using a simplified Miner's rule approach\n",
    "    with cycle ranges binned from turning points and linear damage accumulation.\n",
    "\n",
    "    Parameters\n",
    "    ----------\n",
    "    tp : ArrayLike\n",
    "        Sequence of turning point values.\n",
    "    cc : int\n",
    "        Number of bins (classes) in the histogram.\n",
    "    cw : float\n",
    "        Class width for binning cycle ranges.\n",
    "    co : float\n",
    "        Class offset (start of bin range).\n",
    "    wl_sd : float\n",
    "        Fatigue strength at 1 cycle (stress amplitude).\n",
    "    wl_nd : float\n",
    "        Number of cycles to failure at wl_sd.\n",
    "    wl_k : float\n",
    "        S-N curve exponent (material parameter).\n",
    "    wl_k2 : float | None\n",
    "        Optional steeper slope below `wl_sd` (Haibach method), defaults to None (leading to Miner elementar).\n",
    "        When set to np.inf, the \"Miner original\" approach is used.\n",
    "    q : float\n",
    "        Degradation parameter of fatigue strength.\n",
    "\n",
    "    Returns\n",
    "    -------\n",
    "    float:\n",
    "        Total estimated fatigue damage.\n",
    "    \"\"\"\n",
    "    assert wl_sd > 0\n",
    "    assert wl_nd > 0\n",
    "    assert wl_k > 3\n",
    "    assert wl_k2 is None or wl_k2 >= wl_k or wl_k2 == 0\n",
    "\n",
    "    if q is None:\n",
    "        q = wl_k - 1\n",
    "\n",
    "    # Step 1: Bin the turning points into cycle classes\n",
    "    tp = np.asarray(tp)\n",
    "    bins = np.arange(cc + 1) * cw + co\n",
    "    tp = np.digitize(tp, bins) - 1  # Bin indices (0-based)\n",
    "\n",
    "    # Step 2: Calculate damage per cycle class using S-N curve\n",
    "    with np.errstate(divide=\"ignore\"):\n",
    "        Ni_k  = (np.arange(cc) * (cw / 2) / wl_sd) ** -abs(wl_k)  * wl_nd  # Cycles to failure for k  (Sa >= Sd)\n",
    "        Di_k  = 1 / Ni_k   # Damage per cycle for k  (Sa >= Sd)\n",
    "        if wl_k2 is not None:\n",
    "            Ni_k2 = (np.arange(cc) * (cw / 2) / wl_sd) ** -abs(wl_k2) * wl_nd  # Cycles to failure for k2  (Sa < Sd)\n",
    "            Di_k2 = 1 / Ni_k2  # Damage per cycle for k2  (Sa < Sd)\n",
    "\n",
    "    # Step 3: 4-point rainflow cycle counting with linear stack\n",
    "    D_sum = 0.0\n",
    "    stack = []\n",
    "    for point in tp:\n",
    "        stack.append(point)\n",
    "        while len(stack) >= 4:\n",
    "            A, B, C, D = stack[-4:]\n",
    "\n",
    "            # Normalize ordering to detect closed hysteresis loops\n",
    "            if A > D:\n",
    "                A, D = D, A\n",
    "            if B > C:\n",
    "                B, C = C, B\n",
    "\n",
    "            # Check for a closed cycle\n",
    "            if A <= B and C <= D:\n",
    "                range_index = C - B\n",
    "                assert 0 <= range_index < cc\n",
    "                sa = range_index * cw / 2\n",
    "                if wl_k2 is None:\n",
    "                    D_sum += Di_k[range_index]  # Add damage for full cycle\n",
    "                elif wl_k2 > 0:\n",
    "                    D_sum += Di_k[range_index] if sa >= wl_sd else Di_k2[range_index]  # Add damage for full cycle\n",
    "                elif sa >= wl_sd * np.maximum(0, 1 - D_sum) ** (1 / q):\n",
    "                    D_sum += Di_k[range_index]  # Add damage for full cycle\n",
    "                # Remove the middle two points (B, C)\n",
    "                stack.pop(-2)\n",
    "                stack.pop(-2)\n",
    "            else:\n",
    "                break\n",
    "\n",
    "    return D_sum"
   ]
  },
  {
   "cell_type": "code",
   "execution_count": 4,
   "metadata": {},
   "outputs": [],
   "source": [
    "# Linear damage accumulation (miner's rule)\n",
    "\n",
    "def miner_rule_modified(sa: ArrayLike, counts: ArrayLike, wl_sd: float, wl_nd: float, wl_k: float, wl_k2: Union[float, None] = None):\n",
    "    \"\"\"\n",
    "    Calculate total damage using Miner's rule with optional Haibach extension.\n",
    "\n",
    "    Parameters\n",
    "    ----------\n",
    "    sa : ArrayLike\n",
    "        List or array of stress amplitudes\n",
    "    counts : ArrayLike\n",
    "        List or array of number of cycles for each amplitude\n",
    "    wl_sd : float\n",
    "        Endurance limit (amplitude)\n",
    "    wl_nd : float\n",
    "        Number of cycles at endurance limit (e.g., 1e6)\n",
    "    wl_k : float\n",
    "        Slope of the Wöhler curve above `wl_sd`\n",
    "    wl_k2 : float | None\n",
    "        Optional steeper slope below `wl_sd` (Haibach method), defaults to None (leading to Miner elementar).\n",
    "        When set to np.inf, the \"Miner original\" approach is used.\n",
    "\n",
    "    Returns\n",
    "    -------\n",
    "    total_damage : float\n",
    "        accumulated (pseudo) damage\n",
    "    \"\"\"\n",
    "    assert wl_k > 0 and (wl_k2 is None or wl_k2 > 0)\n",
    "    damage = 0.0\n",
    "\n",
    "    for si, ni in zip(sa, counts):\n",
    "        if si == 0:\n",
    "            continue\n",
    "        if si < wl_sd:\n",
    "            # Haibach: steeper slope below the knee\n",
    "            if wl_k2:\n",
    "                # Miner modified\n",
    "                k = wl_k2\n",
    "            else:\n",
    "                # Miner elementar\n",
    "                k = wl_k\n",
    "        else:\n",
    "            # Standard S-N curve\n",
    "            k = wl_k\n",
    "\n",
    "        N = wl_nd * (wl_sd / si) ** k\n",
    "        d = ni / N\n",
    "        damage += d\n",
    "\n",
    "    return damage"
   ]
  },
  {
   "cell_type": "code",
   "execution_count": 5,
   "metadata": {},
   "outputs": [],
   "source": [
    "# Linear damage accumulation (\"consistent Miners's rule\")\n",
    "\n",
    "def miner_rule_consistent(\n",
    "    sa: ArrayLike,\n",
    "    counts: ArrayLike,\n",
    "    *,\n",
    "    wl_sd: float,\n",
    "    wl_nd: float,\n",
    "    wl_k: float,\n",
    "    sa_bar: ArrayLike,\n",
    "    inspect: Union[None, int] = None,\n",
    "):\n",
    "    \"\"\"\n",
    "    Calculate linear damage accumulation using the Miner rule (\"consistent Miner's rule\" method).\n",
    "\n",
    "    Parameters\n",
    "    ----------\n",
    "    sa : ArrayLike\n",
    "        Stress amplitudes for each load cycle.\n",
    "    counts : ArrayLike\n",
    "        Corresponding number of cycles for each stress amplitude.\n",
    "    wl_sd : float\n",
    "        Endurance limit (amplitude)\n",
    "    wl_nd : float\n",
    "        Number of cycles at endurance limit (e.g., 1e6)\n",
    "    wl_k : float\n",
    "    sa_bar : ArrayLike\n",
    "        Representative amplitudes at which the damage should be evaluated.\n",
    "        (Histogram is scaled, so Sa_max falls onto `sa_bar`)\n",
    "    inspect : int or None, optional\n",
    "        If an integer is provided, debugging output is printed for the corresponding index.\n",
    "        If None, no debugging output is shown.\n",
    "\n",
    "    Returns\n",
    "    -------\n",
    "    dict\n",
    "        Dictionary containing:\n",
    "            - \"A\": Distance between Wöhler line and load duration line\n",
    "            - \"D\": Damage value according to Haibach\n",
    "            - \"v\": Degree of damage utilization\n",
    "            - \"Dm_con\": Normalized experimental damage value (FKM-based)\n",
    "    \"\"\"\n",
    "    # Input flattening and validation\n",
    "    sa = np.ravel(sa)\n",
    "    counts = np.ravel(counts)\n",
    "    assert sa.shape == counts.shape, \"Stress amplitudes and counts must have the same shape\"\n",
    "\n",
    "    # Remove zero-count entries and sort descending by amplitude\n",
    "    mask = counts > 0\n",
    "    sa, counts = sa[mask], counts[mask]\n",
    "    sort_idx = np.argsort(-sa)\n",
    "    sa, counts = sa[sort_idx], counts[sort_idx]\n",
    "\n",
    "    sa1 = sa.max()  # Maximum amplitude\n",
    "    x = np.append(sa / sa1, 0)  # Normalized amplitude (descending + 0 for integration end)\n",
    "\n",
    "    h = counts  # Step heights (cycle counts)\n",
    "    H = np.cumsum(h)  # Cumulative cycles (not directly used here)\n",
    "\n",
    "    # Wöhler parameters\n",
    "    sd = wl_sd\n",
    "    nd = wl_nd\n",
    "    k = abs(wl_k)\n",
    "    q = k - 1\n",
    "\n",
    "    sa_bar = np.ravel(sa_bar if sa_bar is not None else [sa1])\n",
    "    N_bar = (sa_bar / sd) ** -k * nd  # Cycles to failure for sa_bar\n",
    "\n",
    "    A = np.zeros_like(sa_bar, dtype=float)       # Damage distance factor\n",
    "    D_inv = np.zeros_like(sa_bar, dtype=float)   # Inverse damage for check\n",
    "\n",
    "    for i in range(len(sa_bar)):\n",
    "        xd = xD = sd / sa_bar[i]\n",
    "\n",
    "        # Find transition index for relevant x values\n",
    "        j = np.flatnonzero(x >= xD)\n",
    "        if len(j) == 0:\n",
    "            A[i] = D_inv[i] = np.infty\n",
    "        else:\n",
    "            j = j[-1]\n",
    "\n",
    "            for d in range(j + 1, len(x)):\n",
    "                # Fraction between two adjacent x values\n",
    "                fraction = (xd / xD) ** q - (x[d] / xD) ** q\n",
    "                A[i] += fraction * np.sum(h) / np.sum(h[:d] * x[:d] ** k)\n",
    "\n",
    "                if inspect is not None:\n",
    "                    Ni = (sa_bar[i] * x[:-1] / sd) ** -k * nd  # Cycles to failure on Wöhler line\n",
    "                    Dd = np.sum(h[:d] / Ni[:d])\n",
    "                    D_inv[i] += fraction / Dd\n",
    "\n",
    "                    if i == inspect:\n",
    "                        Ai_check = np.sum(h) / N_bar[i] * D_inv[i]\n",
    "                        print(\n",
    "                            f\"i: {d:<3}  sa_bar: {sa_bar[i]:.3g}  \"\n",
    "                            f\"Dd: {Dd:10.3e}  1/Dd: {1/Dd:11.3f}  \"\n",
    "                            f\"Ad: {fraction / Dd:10.3f}  \"\n",
    "                            f\"Ai_check: {Ai_check:10.3f}  Ai: {A[i]:10.3f}\"\n",
    "                        )\n",
    "\n",
    "                xd = x[d]  # Update lower integration bound\n",
    "\n",
    "    D = np.sum(h) / (N_bar * A)\n",
    "\n",
    "    if inspect is not None:\n",
    "        i = np.isfinite(A)\n",
    "        assert np.allclose(D[i] * D_inv[i], 1.0, atol=1e-3), \"D * D_inv != 1, check failed\"\n",
    "\n",
    "    # FKM-based damage evaluation\n",
    "    v = 1 / A ** (1 / k)\n",
    "    Dm = 2 / A ** 0.25\n",
    "    Dm = np.clip(Dm, 0.2, 1.0)  # Clip (recommended)\n",
    "\n",
    "    return {\n",
    "        \"A\": A,        # Distance metric\n",
    "        \"D\": D,        # Haibach-based damage sum\n",
    "        \"v\": v,        # \"Völligkeitsmaß\"\n",
    "        \"Dm_con\": Dm,  # Normalized damage according to FKM\n",
    "    }"
   ]
  },
  {
   "cell_type": "markdown",
   "metadata": {},
   "source": [
    "## Verification \"Miner consequent\""
   ]
  },
  {
   "cell_type": "code",
   "execution_count": 6,
   "metadata": {},
   "outputs": [
    {
     "data": {
      "application/vnd.microsoft.datawrangler.viewer.v0+json": {
       "columns": [
        {
         "name": "i",
         "rawType": "object",
         "type": "unknown"
        },
        {
         "name": "h_i",
         "rawType": "object",
         "type": "unknown"
        },
        {
         "name": "x_i",
         "rawType": "object",
         "type": "unknown"
        },
        {
         "name": "h_i * x_i^k",
         "rawType": "object",
         "type": "string"
        },
        {
         "name": "sum(h_i * x_i^k)",
         "rawType": "object",
         "type": "string"
        },
        {
         "name": "x_i^q - x_{i+1}^q",
         "rawType": "object",
         "type": "string"
        }
       ],
       "ref": "e71ceeb0-3131-44da-85e2-abc0ebe83d35",
       "rows": [
        [
         "1",
         "2",
         "1.000",
         "2.000",
         "2.000",
         "0.142625"
        ],
        [
         "2",
         "16",
         "0.950",
         "13.032",
         "15.032",
         "0.243250"
        ],
        [
         "3",
         "280",
         "0.850",
         "146.162",
         "161.194",
         "0.233047"
        ],
        [
         "4",
         "2720",
         "0.725",
         "751.486",
         "912.680",
         "0.190969"
        ],
        [
         "5",
         "20000",
         "0.575",
         "2186.258",
         "3098.938",
         "0.113344"
        ],
        [
         "6",
         "92000",
         "0.425",
         "3001.536",
         "6100.474",
         "0.055969"
        ],
        [
         "7",
         "280000",
         "0.275",
         "1601.359",
         "7701.833",
         "0.018844"
        ],
        [
         "8",
         "605000",
         "0.125",
         "147.705",
         "7849.538",
         "0.001953"
        ],
        [
         "(9)",
         "",
         "0",
         "",
         "",
         ""
        ]
       ],
       "shape": {
        "columns": 5,
        "rows": 9
       }
      },
      "text/html": [
       "<div>\n",
       "<style scoped>\n",
       "    .dataframe tbody tr th:only-of-type {\n",
       "        vertical-align: middle;\n",
       "    }\n",
       "\n",
       "    .dataframe tbody tr th {\n",
       "        vertical-align: top;\n",
       "    }\n",
       "\n",
       "    .dataframe thead th {\n",
       "        text-align: right;\n",
       "    }\n",
       "</style>\n",
       "<table border=\"1\" class=\"dataframe\">\n",
       "  <thead>\n",
       "    <tr style=\"text-align: right;\">\n",
       "      <th></th>\n",
       "      <th>h_i</th>\n",
       "      <th>x_i</th>\n",
       "      <th>h_i * x_i^k</th>\n",
       "      <th>sum(h_i * x_i^k)</th>\n",
       "      <th>x_i^q - x_{i+1}^q</th>\n",
       "    </tr>\n",
       "    <tr>\n",
       "      <th>i</th>\n",
       "      <th></th>\n",
       "      <th></th>\n",
       "      <th></th>\n",
       "      <th></th>\n",
       "      <th></th>\n",
       "    </tr>\n",
       "  </thead>\n",
       "  <tbody>\n",
       "    <tr>\n",
       "      <th>1</th>\n",
       "      <td>2</td>\n",
       "      <td>1.000</td>\n",
       "      <td>2.000</td>\n",
       "      <td>2.000</td>\n",
       "      <td>0.142625</td>\n",
       "    </tr>\n",
       "    <tr>\n",
       "      <th>2</th>\n",
       "      <td>16</td>\n",
       "      <td>0.950</td>\n",
       "      <td>13.032</td>\n",
       "      <td>15.032</td>\n",
       "      <td>0.243250</td>\n",
       "    </tr>\n",
       "    <tr>\n",
       "      <th>3</th>\n",
       "      <td>280</td>\n",
       "      <td>0.850</td>\n",
       "      <td>146.162</td>\n",
       "      <td>161.194</td>\n",
       "      <td>0.233047</td>\n",
       "    </tr>\n",
       "    <tr>\n",
       "      <th>4</th>\n",
       "      <td>2720</td>\n",
       "      <td>0.725</td>\n",
       "      <td>751.486</td>\n",
       "      <td>912.680</td>\n",
       "      <td>0.190969</td>\n",
       "    </tr>\n",
       "    <tr>\n",
       "      <th>5</th>\n",
       "      <td>20000</td>\n",
       "      <td>0.575</td>\n",
       "      <td>2186.258</td>\n",
       "      <td>3098.938</td>\n",
       "      <td>0.113344</td>\n",
       "    </tr>\n",
       "    <tr>\n",
       "      <th>6</th>\n",
       "      <td>92000</td>\n",
       "      <td>0.425</td>\n",
       "      <td>3001.536</td>\n",
       "      <td>6100.474</td>\n",
       "      <td>0.055969</td>\n",
       "    </tr>\n",
       "    <tr>\n",
       "      <th>7</th>\n",
       "      <td>280000</td>\n",
       "      <td>0.275</td>\n",
       "      <td>1601.359</td>\n",
       "      <td>7701.833</td>\n",
       "      <td>0.018844</td>\n",
       "    </tr>\n",
       "    <tr>\n",
       "      <th>8</th>\n",
       "      <td>605000</td>\n",
       "      <td>0.125</td>\n",
       "      <td>147.705</td>\n",
       "      <td>7849.538</td>\n",
       "      <td>0.001953</td>\n",
       "    </tr>\n",
       "    <tr>\n",
       "      <th>(9)</th>\n",
       "      <td></td>\n",
       "      <td>0</td>\n",
       "      <td></td>\n",
       "      <td></td>\n",
       "      <td></td>\n",
       "    </tr>\n",
       "  </tbody>\n",
       "</table>\n",
       "</div>"
      ],
      "text/plain": [
       "        h_i    x_i h_i * x_i^k sum(h_i * x_i^k) x_i^q - x_{i+1}^q\n",
       "i                                                                \n",
       "1         2  1.000       2.000            2.000          0.142625\n",
       "2        16  0.950      13.032           15.032          0.243250\n",
       "3       280  0.850     146.162          161.194          0.233047\n",
       "4      2720  0.725     751.486          912.680          0.190969\n",
       "5     20000  0.575    2186.258         3098.938          0.113344\n",
       "6     92000  0.425    3001.536         6100.474          0.055969\n",
       "7    280000  0.275    1601.359         7701.833          0.018844\n",
       "8    605000  0.125     147.705         7849.538          0.001953\n",
       "(9)              0                                               "
      ]
     },
     "metadata": {},
     "output_type": "display_data"
    },
    {
     "name": "stdout",
     "output_type": "stream",
     "text": [
      "i: 1    sa_bar: 105  Dd:  2.431e-06  1/Dd:  411351.237  Ad:   3077.428  Ai_check:   3740.700  Ai:   3740.700\n",
      "i: 2    sa_bar: 105  Dd:  1.827e-05  1/Dd:   54729.710  Ad:  15411.464  Ai_check:  22473.768  Ai:  22473.768\n",
      "i: 3    sa_bar: 105  Dd:  1.959e-04  1/Dd:    5103.808  Ad:   1376.910  Ai_check:  24147.441  Ai:  24147.441\n",
      "i: 4    sa_bar: 105  Dd:  1.109e-03  1/Dd:     901.414  Ad:    199.276  Ai_check:  24389.666  Ai:  24389.666\n",
      "i: 5    sa_bar: 105  Dd:  3.767e-03  1/Dd:     265.479  Ad:     34.833  Ai_check:  24432.007  Ai:  24432.007\n",
      "i: 6    sa_bar: 105  Dd:  7.415e-03  1/Dd:     134.859  Ad:      8.738  Ai_check:  24442.628  Ai:  24442.628\n",
      "i: 7    sa_bar: 105  Dd:  9.362e-03  1/Dd:     106.819  Ad:      2.330  Ai_check:  24445.460  Ai:  24445.460\n",
      "i: 8    sa_bar: 105  Dd:  9.541e-03  1/Dd:     104.809  Ad:      0.237  Ai_check:  24445.748  Ai:  24445.748\n"
     ]
    },
    {
     "data": {
      "text/plain": [
       "[89199.583,\n",
       " 24445.748,\n",
       " 14414.851,\n",
       " 6980.959,\n",
       " 2089.659,\n",
       " 556.181,\n",
       " 253.551,\n",
       " 219.482,\n",
       " 152.775,\n",
       " 144.658,\n",
       " 133.329,\n",
       " 129.536,\n",
       " 129.245,\n",
       " 128.811,\n",
       " 128.205,\n",
       " 127.398]"
      ]
     },
     "metadata": {},
     "output_type": "display_data"
    },
    {
     "name": "stdout",
     "output_type": "stream",
     "text": [
      "Check ok!\n"
     ]
    }
   ],
   "source": [
    "# Test of the algorithm for comparison with the book\n",
    "# \"Betriebsfestigkeit\", Erwin Haibach, 3rd Edition, 2006, Springer,\n",
    "# Table 3.2-6, p. 309\n",
    "\n",
    "wl_sd  = 100\n",
    "wl_nd  = 1e6\n",
    "wl_k   = 4\n",
    "q      = wl_k - 1\n",
    "sa     = [1, 0.95, 0.85, 0.725, 0.575, 0.425, 0.275,  0.125 ]\n",
    "counts = [2, 16,   280,  2720,  20000, 92000, 280000, 605000]\n",
    "\n",
    "display(\n",
    "    pd.DataFrame({\n",
    "        \"h_i\": [*counts, \"\"],\n",
    "        \"x_i\": [*[f\"{s:.3f}\" for s in sa], 0],\n",
    "        \"h_i * x_i^k\": [*[f\"{v:.3f}\" for v in [c * s ** wl_k for c, s in zip(counts, sa)]], \"\"],\n",
    "        \"sum(h_i * x_i^k)\": [*[f\"{v:.3f}\" for v in np.cumsum([c * s ** wl_k for c, s in zip(counts, sa)])], \"\"],\n",
    "        \"x_i^q - x_{i+1}^q\": [*[f\"{v:.6f}\" for v in [x0**q - x1**q for x0, x1 in pairwise([*sa, 0])]], \"\"]\n",
    "    }, index=pd.Series([*list(range(1, len(counts) + 1)), f\"({len(counts) + 1})\"], name=\"i\"))\n",
    ")\n",
    "\n",
    "result = miner_rule_consistent(\n",
    "    sa,\n",
    "    counts,\n",
    "    wl_sd=wl_sd,\n",
    "    wl_nd=wl_nd,\n",
    "    wl_k=wl_k,\n",
    "    sa_bar=[100, 105, 110, 115, 125, 150, 175, 200, 250, 300, 350, 400, 500, 600, 700, 800],\n",
    "    inspect=1,\n",
    ")\n",
    "\n",
    "A = result[\"A\"].round(3)\n",
    "display(A.tolist())\n",
    "\n",
    "# Compare with expected results\n",
    "assert(np.allclose(A, [\n",
    "    89199.590,\n",
    "    24445.830,\n",
    "    14414.850,\n",
    "    6980.954,\n",
    "    2089.658,\n",
    "    556.181,\n",
    "    253.551,\n",
    "    219.482,\n",
    "    152.775,\n",
    "    144.658,\n",
    "    133.296,\n",
    "    129.536,\n",
    "    129.245,\n",
    "    128.810,\n",
    "    128.205,\n",
    "    127.398,\n",
    "], rtol=1e-3))\n",
    "\n",
    "\n",
    "print(\"Check ok!\")"
   ]
  },
  {
   "cell_type": "code",
   "execution_count": 7,
   "metadata": {},
   "outputs": [
    {
     "name": "stdout",
     "output_type": "stream",
     "text": [
      "Damage: 4.972350e-05\n"
     ]
    }
   ],
   "source": [
    "# Damage value for sa_bar\n",
    "\n",
    "sa_bar = 105\n",
    "\n",
    "D = miner_rule_consistent(\n",
    "    sa,\n",
    "    counts,\n",
    "    wl_sd=wl_sd,\n",
    "    wl_nd=wl_nd,\n",
    "    wl_k=wl_k,\n",
    "    sa_bar=[sa_bar],\n",
    ")[\"D\"].item()\n",
    "\n",
    "print(f\"Damage: {D:.6e}\")"
   ]
  },
  {
   "cell_type": "code",
   "execution_count": 8,
   "metadata": {},
   "outputs": [
    {
     "name": "stdout",
     "output_type": "stream",
     "text": [
      "Damage: 4.972350e-05\n"
     ]
    }
   ],
   "source": [
    "# Damage value for sa_bar (rfcnt)\n",
    "\n",
    "D = rfcnt.rfcnt.damage_from_rp(\n",
    "    np.array(sa) * sa_bar,\n",
    "    counts,\n",
    "    wl={\n",
    "        \"sx\": wl_sd,\n",
    "        \"nx\": wl_nd,\n",
    "        \"sd\": wl_sd,\n",
    "        \"k\": wl_k,\n",
    "    },\n",
    "    method=rfcnt.RPDamageCalcMethod.MINER_CONSISTENT\n",
    ")\n",
    "\n",
    "print(f\"Damage: {D:.6e}\")"
   ]
  },
  {
   "cell_type": "markdown",
   "metadata": {},
   "source": [
    "## Verification with random loads"
   ]
  },
  {
   "cell_type": "code",
   "execution_count": 9,
   "metadata": {},
   "outputs": [
    {
     "data": {
      "image/png": "[encoded data removed]",
      "text/plain": [
       "<Figure size 640x480 with 1 Axes>"
      ]
     },
     "metadata": {},
     "output_type": "display_data"
    },
    {
     "name": "stdout",
     "output_type": "stream",
     "text": [
      "Sa_max: 1.70\n",
      "Damage (elementar): 2.215891e-02\n"
     ]
    }
   ],
   "source": [
    "# Random loads\n",
    "\n",
    "loads_type = 1\n",
    "seed       = 42\n",
    "wl_sd      = 1\n",
    "wl_nd      = 1e6\n",
    "wl_k       = 4\n",
    "\n",
    "scalings = [1.2, 1.8, 1.8]\n",
    "\n",
    "\n",
    "if loads_type == 0:\n",
    "    # Stationary uniformly distributed loads\n",
    "    # (The very full collective ensures a fast continuous decrease in fatigue strength,\n",
    "    # which is why the signal length is shortened here from 1e6 to 1e5.)\n",
    "    data = scs.stats.uniform.rvs(loc=-1, scale=2, size=int(1e5), random_state=seed)\n",
    "elif loads_type == 1:\n",
    "    # Stationary gaussian distributed loads\n",
    "    data = scs.stats.norm.rvs(size=int(1e6), random_state=seed)\n",
    "elif loads_type == 2:\n",
    "    # Stationary gaussian distributed loads (natural excitation)\n",
    "    _, data = generate_excitation_psd(T=1e6, dt=1, w=0.1, seed=seed)\n",
    "else:\n",
    "    raise RuntimeError\n",
    "\n",
    "data = data / np.max(np.abs(data)) * scalings[loads_type]\n",
    "cc = 21\n",
    "cw = 0.2\n",
    "co = np.min(data) - cw\n",
    "wl = {\n",
    "    \"sx\": wl_sd,\n",
    "    \"nx\": wl_nd,\n",
    "    \"k\": wl_k,\n",
    "    \"sd\": wl_sd,\n",
    "}\n",
    "result = rfcnt.rfc(\n",
    "    data,\n",
    "    class_width=cw,\n",
    "    class_offset=co,\n",
    "    class_count=cc,\n",
    "    wl={**wl, \"sd\": 0},   # if `sx` or `nx` is given, `sd` must be set to zero here, to get miner elementar damage!\n",
    "    residual_method=rfcnt.ResidualMethod.NONE,\n",
    ")\n",
    "\n",
    "sa, counts = (result[\"rp\"][::-1].astype(float) * [0.5, 1]).T\n",
    "plt.semilogx(np.cumsum(counts), sa, label=\"Random loads\")\n",
    "plt.plot(wl[\"nx\"], wl[\"sx\"], \"r+\", ms=16, label=\"Endurance limit $(S_{a,D}, N_D)$\")\n",
    "plt.ylim(0, 2)\n",
    "plt.xlim(None, 2e6)\n",
    "plt.grid(visible=True, which=\"both\")\n",
    "plt.xlabel(\"Counts, log [1]\")\n",
    "plt.ylabel(\"Range Pair (amplitudes)\")\n",
    "plt.title(\"Normally distributed loads\")\n",
    "plt.legend()\n",
    "plt.show()\n",
    "\n",
    "tp = result[\"tp\"].T[1]  # Turning points\n",
    "sa, counts = (result[\"rp\"][::-1].astype(float) * [0.5, 1]).T\n",
    "sa_max = sa[np.flatnonzero(counts > 0)[0]]\n",
    "\n",
    "print(f\"Sa_max: {sa_max:.2f}\")\n",
    "print(f\"Damage (elementar): {result['damage']:.6e}\")"
   ]
  },
  {
   "cell_type": "markdown",
   "metadata": {},
   "source": [
    "### Miner elementar"
   ]
  },
  {
   "cell_type": "code",
   "execution_count": 10,
   "metadata": {},
   "outputs": [
    {
     "name": "stdout",
     "output_type": "stream",
     "text": [
      "Damage (elementar): 2.215891e-02\n"
     ]
    }
   ],
   "source": [
    "# From histogram\n",
    "\n",
    "D = miner_rule_modified(\n",
    "    sa,\n",
    "    counts,\n",
    "    wl_sd=wl_sd,\n",
    "    wl_nd=wl_nd,\n",
    "    wl_k=wl_k,\n",
    "    # Discarding wl_k2 here leads to \"Miner elementar\"\n",
    ")\n",
    "\n",
    "print(f\"Damage (elementar): {D:.6e}\")"
   ]
  },
  {
   "cell_type": "code",
   "execution_count": 11,
   "metadata": {},
   "outputs": [
    {
     "name": "stdout",
     "output_type": "stream",
     "text": [
      "Damage (elementar): 2.215891e-02\n"
     ]
    }
   ],
   "source": [
    "# From histogram (rfcnt)\n",
    "\n",
    "D = rfcnt.damage_from_rp(\n",
    "    sa,\n",
    "    counts,\n",
    "    wl=wl,\n",
    "    method=rfcnt.RPDamageCalcMethod.MINER_ELEMENTAR\n",
    ")\n",
    "\n",
    "print(f\"Damage (elementar): {D:.6e}\")"
   ]
  },
  {
   "cell_type": "code",
   "execution_count": 12,
   "metadata": {},
   "outputs": [
    {
     "name": "stdout",
     "output_type": "stream",
     "text": [
      "Damage (elementar): 2.215891e-02\n"
     ]
    }
   ],
   "source": [
    "# From turning points\n",
    "\n",
    "D = miner_turning_points_damage(\n",
    "    tp,\n",
    "    cc=cc, cw=cw, co=co,\n",
    "    wl_sd=wl_sd,\n",
    "    wl_nd=wl_nd,\n",
    "    wl_k=wl_k,\n",
    "    # Discarding wl_k2 here leads to \"Miner elementar\"\n",
    ")\n",
    "\n",
    "print(f\"Damage (elementar): {D:.6e}\")"
   ]
  },
  {
   "cell_type": "markdown",
   "metadata": {},
   "source": [
    "### Miner modified"
   ]
  },
  {
   "cell_type": "code",
   "execution_count": 13,
   "metadata": {},
   "outputs": [
    {
     "name": "stdout",
     "output_type": "stream",
     "text": [
      "Damage (elementar): 1.199233e-02\n"
     ]
    }
   ],
   "source": [
    "# From histogram\n",
    "\n",
    "D = miner_rule_modified(\n",
    "    sa,\n",
    "    counts,\n",
    "    wl_sd=wl_sd,\n",
    "    wl_nd=wl_nd,\n",
    "    wl_k=wl_k,\n",
    "    wl_k2=wl_k * 2 - 1,\n",
    ")\n",
    "\n",
    "print(f\"Damage (elementar): {D:.6e}\")"
   ]
  },
  {
   "cell_type": "code",
   "execution_count": 14,
   "metadata": {},
   "outputs": [
    {
     "name": "stdout",
     "output_type": "stream",
     "text": [
      "Damage (elementar): 1.199233e-02\n"
     ]
    }
   ],
   "source": [
    "# From histogram (rfcnt)\n",
    "\n",
    "D = rfcnt.damage_from_rp(\n",
    "    sa,\n",
    "    counts,\n",
    "    wl={**wl, \"k2\": wl_k * 2 - 1},\n",
    "    method=rfcnt.RPDamageCalcMethod.MINER_MODIFIED,\n",
    ")\n",
    "\n",
    "print(f\"Damage (elementar): {D:.6e}\")"
   ]
  },
  {
   "cell_type": "code",
   "execution_count": 15,
   "metadata": {},
   "outputs": [
    {
     "name": "stdout",
     "output_type": "stream",
     "text": [
      "Damage (consistent): 1.199233e-02\n"
     ]
    }
   ],
   "source": [
    "# From timeseries (rfcnt)\n",
    "\n",
    "result = rfcnt.rfc(\n",
    "    data,\n",
    "    class_width=cw,\n",
    "    class_offset=co,\n",
    "    class_count=cc,\n",
    "    wl = {**wl, \"sd\": 0, \"k2\": wl_k * 2 - 1},  # `sd` must be set to zero here, to take values less `sx` into account!\n",
    "    residual_method=rfcnt.ResidualMethod.NONE,\n",
    ")\n",
    "D = result[\"damage\"]\n",
    "\n",
    "print(f\"Damage (consistent): {D:.6e}\")"
   ]
  },
  {
   "cell_type": "code",
   "execution_count": 16,
   "metadata": {},
   "outputs": [
    {
     "name": "stdout",
     "output_type": "stream",
     "text": [
      "Damage (elementar): 1.199233e-02\n"
     ]
    }
   ],
   "source": [
    "# From turning points\n",
    "\n",
    "D = miner_turning_points_damage(\n",
    "    tp,\n",
    "    cc=cc, cw=cw, co=co,\n",
    "    wl_sd=wl_sd,\n",
    "    wl_nd=wl_nd,\n",
    "    wl_k=wl_k,\n",
    "    wl_k2=wl_k * 2 -1,\n",
    ")\n",
    "\n",
    "print(f\"Damage (elementar): {D:.6e}\")"
   ]
  },
  {
   "cell_type": "markdown",
   "metadata": {},
   "source": [
    "## Miner original"
   ]
  },
  {
   "cell_type": "code",
   "execution_count": 17,
   "metadata": {},
   "outputs": [
    {
     "name": "stdout",
     "output_type": "stream",
     "text": [
      "Damage (origial): 5.947180e-03\n"
     ]
    }
   ],
   "source": [
    "# From histogram\n",
    "\n",
    "D = miner_rule_modified(\n",
    "    sa,\n",
    "    counts,\n",
    "    wl_sd=wl_sd,\n",
    "    wl_nd=wl_nd,\n",
    "    wl_k=wl_k,\n",
    "    wl_k2=np.inf,\n",
    ")\n",
    "\n",
    "print(f\"Damage (origial): {D:.6e}\")"
   ]
  },
  {
   "cell_type": "code",
   "execution_count": 18,
   "metadata": {},
   "outputs": [
    {
     "name": "stdout",
     "output_type": "stream",
     "text": [
      "Damage (original): 5.947180e-03\n"
     ]
    }
   ],
   "source": [
    "# From histogram (rfcnt)\n",
    "\n",
    "D = rfcnt.damage_from_rp(\n",
    "    sa,\n",
    "    counts,\n",
    "    wl={**wl, \"k2\": np.inf},\n",
    "    method=rfcnt.RPDamageCalcMethod.MINER_MODIFIED,\n",
    ")\n",
    "\n",
    "print(f\"Damage (original): {D:.6e}\")"
   ]
  },
  {
   "cell_type": "code",
   "execution_count": 19,
   "metadata": {},
   "outputs": [
    {
     "name": "stdout",
     "output_type": "stream",
     "text": [
      "Damage (original): 5.947180e-03\n"
     ]
    }
   ],
   "source": [
    "# From timeseries (rfcnt)\n",
    "\n",
    "result = rfcnt.rfc(\n",
    "    data,\n",
    "    class_width=cw,\n",
    "    class_offset=co,\n",
    "    class_count=cc,\n",
    "    wl = {**wl, \"sd\": 0, \"k2\": np.inf},  # `sd` must be set to zero here, to take values less `sx` into account!\n",
    "    residual_method=rfcnt.ResidualMethod.NONE,\n",
    ")\n",
    "D = result[\"damage\"]\n",
    "\n",
    "print(f\"Damage (original): {D:.6e}\")"
   ]
  },
  {
   "cell_type": "code",
   "execution_count": 20,
   "metadata": {},
   "outputs": [
    {
     "name": "stdout",
     "output_type": "stream",
     "text": [
      "Damage (original): 5.947180e-03\n"
     ]
    }
   ],
   "source": [
    "# From turning points\n",
    "\n",
    "D = miner_turning_points_damage(\n",
    "    tp,\n",
    "    cc=cc, cw=cw, co=co,\n",
    "    wl_sd=wl_sd,\n",
    "    wl_nd=wl_nd,\n",
    "    wl_k=wl_k,\n",
    "    wl_k2=np.inf,\n",
    ")\n",
    "\n",
    "print(f\"Damage (original): {D:.6e}\")"
   ]
  },
  {
   "cell_type": "markdown",
   "metadata": {},
   "source": [
    "### Miner consistent"
   ]
  },
  {
   "cell_type": "code",
   "execution_count": 21,
   "metadata": {},
   "outputs": [
    {
     "name": "stdout",
     "output_type": "stream",
     "text": [
      "Damage (consistent): 9.787114e-03\n"
     ]
    }
   ],
   "source": [
    "# From histogram\n",
    "\n",
    "D = miner_rule_consistent(\n",
    "    sa,\n",
    "    counts,\n",
    "    wl_sd=wl_sd,\n",
    "    wl_nd=wl_nd,\n",
    "    wl_k=wl_k,\n",
    "    sa_bar=[sa_max]\n",
    ")[\"D\"].item()\n",
    "\n",
    "print(f\"Damage (consistent): {D:.6e}\")"
   ]
  },
  {
   "cell_type": "code",
   "execution_count": 22,
   "metadata": {},
   "outputs": [
    {
     "name": "stdout",
     "output_type": "stream",
     "text": [
      "Damage (consistent): 9.787114e-03\n"
     ]
    }
   ],
   "source": [
    "# From histogram (rfcnt)\n",
    "\n",
    "D = rfcnt.damage_from_rp(\n",
    "    sa,\n",
    "    counts,\n",
    "    wl=wl,\n",
    "    method=rfcnt.RPDamageCalcMethod.MINER_CONSISTENT,\n",
    ")\n",
    "\n",
    "print(f\"Damage (consistent): {D:.6e}\")"
   ]
  },
  {
   "cell_type": "code",
   "execution_count": 23,
   "metadata": {},
   "outputs": [
    {
     "name": "stdout",
     "output_type": "stream",
     "text": [
      "Damage (consistent): 5.947180e-03\n"
     ]
    }
   ],
   "source": [
    "# From timeseries (rfcnt)\n",
    "\n",
    "# Since `rfcnt` evaluates the damage according to the current state of the time series and\n",
    "# considering the order amplitudes, it differs from the Haibach estimate, which refers to a\n",
    "# histogram that assumes uniform loads over time and a constant N_bar/N ratio for Sa_bar.\n",
    "# (The equilibrium for both methods is shown later.)\n",
    "\n",
    "result = rfcnt.rfc(\n",
    "    data,\n",
    "    class_width=cw,\n",
    "    class_offset=co,\n",
    "    class_count=cc,\n",
    "    wl = wl,\n",
    "    residual_method=rfcnt.ResidualMethod.NONE,\n",
    ")\n",
    "D = result[\"wl_miner_consistent\"]\n",
    "\n",
    "print(f\"Damage (consistent): {D['D']:.6e}\")"
   ]
  },
  {
   "cell_type": "code",
   "execution_count": 24,
   "metadata": {},
   "outputs": [
    {
     "name": "stdout",
     "output_type": "stream",
     "text": [
      "Damage (consistent): 5.947180e-03\n"
     ]
    }
   ],
   "source": [
    "# From turning points\n",
    "\n",
    "D = miner_turning_points_damage(\n",
    "    tp,\n",
    "    cc=cc, cw=cw, co=co,\n",
    "    wl_sd=wl_sd,\n",
    "    wl_nd=wl_nd,\n",
    "    wl_k=wl_k,\n",
    "    wl_k2=0,  # `wl_k2`==0  ==> Miner consistent\n",
    ")\n",
    "\n",
    "print(f\"Damage (consistent): {D:.6e}\")"
   ]
  },
  {
   "cell_type": "markdown",
   "metadata": {},
   "source": [
    "## Comparisation of approaches"
   ]
  },
  {
   "cell_type": "code",
   "execution_count": 25,
   "metadata": {},
   "outputs": [],
   "source": [
    "# Damage results for shifted SN-curve and various Miner rules\n",
    "\n",
    "results = []\n",
    "for wl_nd in np.logspace(3, 5, 10):\n",
    "    D_rp_el_py = miner_rule_modified(\n",
    "        sa,\n",
    "        counts,\n",
    "        wl_sd=wl_sd,\n",
    "        wl_nd=wl_nd,\n",
    "        wl_k=wl_k,\n",
    "    )\n",
    "    D_rp_mod_py = miner_rule_modified(\n",
    "        sa,\n",
    "        counts,\n",
    "        wl_sd=wl_sd,\n",
    "        wl_nd=wl_nd,\n",
    "        wl_k=wl_k,\n",
    "        wl_k2=wl_k * 2 -1,\n",
    "    )\n",
    "    D_rp_py = miner_rule_consistent(\n",
    "        sa,\n",
    "        counts,\n",
    "        wl_sd=wl_sd,\n",
    "        wl_nd=wl_nd,\n",
    "        wl_k=wl_k,\n",
    "        sa_bar=[sa_max],\n",
    "    )[\"D\"].item()\n",
    "    D_rp_rfc = rfcnt.damage_from_rp(\n",
    "        sa,\n",
    "        counts,\n",
    "        wl={**wl, \"nx\": wl_nd, \"sd\": 1},\n",
    "        method=rfcnt.RPDamageCalcMethod.MINER_CONSISTENT,\n",
    "    )\n",
    "    D_tp_py = miner_turning_points_damage(\n",
    "        tp,\n",
    "        cc=cc, cw=cw, co=co,\n",
    "        wl_sd=wl_sd,\n",
    "        wl_nd=wl_nd,\n",
    "        wl_k=wl_k,\n",
    "        wl_k2=0,\n",
    "    )\n",
    "    D_ts_rfc = rfcnt.rfc(\n",
    "        data,\n",
    "        class_width=cw,\n",
    "        class_offset=co,\n",
    "        class_count=cc,\n",
    "        wl = {**wl, \"nx\": wl_nd, \"sd\": 1, \"k2\": 4},\n",
    "        residual_method=rfcnt.ResidualMethod.NONE,\n",
    "    )[\"wl_miner_consistent\"]\n",
    "    results.append([wl_nd, D_rp_el_py, D_rp_mod_py, D_rp_py, D_rp_rfc, D_tp_py, D_ts_rfc[\"D\"]])\n",
    "results = np.array(results)\n",
    "labels = [\n",
    "    \"$N_D$\",\n",
    "    \"Miner elementar (estimate, Python)\",\n",
    "    \"Miner modified 2k-1 (estimate, Python)\",\n",
    "    \"Miner consistent (estimate, Python)\",\n",
    "    \"Miner consistent (estimate, rfcnt)\",\n",
    "    \"Miner consistent (truth, Python)\",\n",
    "    \"Miner consistent (truth, rfcnt)\",\n",
    "]"
   ]
  },
  {
   "cell_type": "code",
   "execution_count": null,
   "metadata": {},
   "outputs": [
    {
     "name": "stdout",
     "output_type": "stream",
     "text": [
      "Equality of estimate and truth at 9787 cycles (D=1)\n"
     ]
    },
    {
     "data": {
      "image/png": "[encoded data removed]",
      "text/plain": [
       "<Figure size 1000x600 with 1 Axes>"
      ]
     },
     "metadata": {},
     "output_type": "display_data"
    }
   ],
   "source": [
    "# Plot results\n",
    "\n",
    "plt.clf()\n",
    "plt.gcf().set_size_inches(10, 6)\n",
    "plt.axhline(1, c=\"k\", ls=\"--\")\n",
    "lines = plt.loglog(results[:, 0], results[:, 1:], label=labels[1:], ls=\"-\")\n",
    "lines[3].set_ls(\"--\")\n",
    "lines[5].set_ls(\"--\")\n",
    "N_eq = results[0, 0] * results[0, 4]  # ND * D\n",
    "plt.plot(N_eq, 1, \"o\", c=\"none\", mec=\"k\", ms=12, mew=2, label=\"Equality (Miner consistent)\")\n",
    "plt.ylim(top=1e2)\n",
    "plt.grid(visible=True, which=\"both\")\n",
    "plt.legend()\n",
    "plt.xlabel(\"$N_D$, log [1]  $(S_{a,D}=const.)$\")\n",
    "plt.ylabel(\"Damage D, log [1]\")\n",
    "print(f\"Equality for estimate and truth at {N_eq:.0f} cycles (D=1)\")\n",
    "plt.show()"
   ]
  },
  {
   "cell_type": "code",
   "execution_count": 27,
   "metadata": {},
   "outputs": [
    {
     "data": {
      "image/png": "[encoded data removed]",
      "text/plain": [
       "<Figure size 1000x600 with 1 Axes>"
      ]
     },
     "metadata": {},
     "output_type": "display_data"
    }
   ],
   "source": [
    "# Plot SN-curves and loads\n",
    "\n",
    "wl2 = {**wl, \"nx\": N_eq, \"nd\": N_eq}\n",
    "k = np.array([wl[\"k\"], wl[\"k\"], 1e30])\n",
    "xn = np.array([1e-1, 1, 10])\n",
    "xs = xn ** -(1/k)\n",
    "\n",
    "rfc_tp = rfcnt.rfc(\n",
    "    data,\n",
    "    class_width=cw,\n",
    "    class_offset=co,\n",
    "    class_count=cc,\n",
    "    wl=wl,\n",
    "    residual_method=rfcnt.ResidualMethod.NONE,\n",
    ")\n",
    "rfc_tp_con = rfc_tp[\"wl_miner_consistent\"]\n",
    "\n",
    "rfc_tp2 = rfcnt.rfc(\n",
    "    data[len(data) // 5:],  # 80% loads\n",
    "    class_width=cw,\n",
    "    class_offset=co,\n",
    "    class_count=cc,\n",
    "    wl=wl2,\n",
    "    residual_method=rfcnt.ResidualMethod.NONE,\n",
    ")\n",
    "rfc_tp2_con = rfc_tp2[\"wl_miner_consistent\"]\n",
    "\n",
    "plt.clf()\n",
    "plt.gcf().set_size_inches(10, 6)\n",
    "plt.loglog(\n",
    "    wl[\"nx\"] * xn,\n",
    "    wl[\"sx\"] * xs,\n",
    "    \"k-\",\n",
    "    label=\"(1) Initial SN-curve\"\n",
    ")\n",
    "plt.loglog(\n",
    "    N_eq * xn,\n",
    "    wl[\"sd\"] * xs,\n",
    "    c=\"tab:blue\", ls=\"-\", lw=3,\n",
    "    label=\"(2) SN-curve at $N_D(D=1)$\"\n",
    ")\n",
    "# SN-curve for \"pre-damaged\" part\n",
    "D = rfc_tp2_con[\"D\"]\n",
    "sd = wl[\"sd\"] * (1 - D) ** (1 / q)\n",
    "nd = N_eq * (1 - D) * (sd / wl[\"sd\"]) ** -wl[\"k\"]\n",
    "plt.loglog(\n",
    "    nd * xn,\n",
    "    sd * xs,\n",
    "    c=\"tab:blue\", ls=\"-\", lw=1,\n",
    "    label=f\"(3) SN-curve (2) for \\\"pre-damaged\\\" part at L=80%, D={rfc_tp2_con['D']:.3f}\"\n",
    ")\n",
    "# Same curve (taken from rfcnt results)\n",
    "plt.loglog(\n",
    "    rfc_tp2_con[\"nx\"] * xn,\n",
    "    rfc_tp2_con[\"sx\"] * xs,\n",
    "    c=\"tab:blue\", ls=\"--\", lw=3,\n",
    "    label=\"(4) Same SN-curve (3) (rfcnt)\"\n",
    ")\n",
    "# Annotate SD degradation \"q\"\n",
    "plt.annotate(\"\", xy=(nd, sd), xytext=(N_eq, wl[\"sd\"]), arrowprops={\"arrowstyle\": \"->\", \"color\": \"tab:blue\"})\n",
    "plt.text(*np.sqrt([nd * N_eq, sd * wl[\"sd\"]]), \"  $q=k-1$\", c=\"tab:blue\")\n",
    "# Loads\n",
    "plt.plot(np.cumsum(counts), sa, \"k-\", label=\"loads\")\n",
    "plt.xlabel(\"Counts N, log [1]\")\n",
    "plt.ylabel(\"Damage D, log [1]\")\n",
    "plt.ylim(0.2)\n",
    "plt.grid(visible=True, which=\"both\")\n",
    "plt.legend()\n",
    "plt.show()"
   ]
  }
 ],
 "metadata": {
  "kernelspec": {
   "display_name": "Py311-EISB1",
   "language": "python",
   "name": "python3"
  },
  "language_info": {
   "codemirror_mode": {
    "name": "ipython",
    "version": 3
   },
   "file_extension": ".py",
   "mimetype": "text/x-python",
   "name": "python",
   "nbconvert_exporter": "python",
   "pygments_lexer": "ipython3",
   "version": "3.11.9"
  }
 },
 "nbformat": 4,
 "nbformat_minor": 2
}
